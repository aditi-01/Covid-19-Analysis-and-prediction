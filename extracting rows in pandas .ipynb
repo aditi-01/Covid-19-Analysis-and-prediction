{
 "cells": [
  {
   "cell_type": "code",
   "execution_count": 1,
   "id": "99020428",
   "metadata": {},
   "outputs": [],
   "source": [
    "#extracting rows with data.loc[] with python\n",
    "import pandas as pd"
   ]
  },
  {
   "cell_type": "code",
   "execution_count": 2,
   "id": "6320ef31",
   "metadata": {},
   "outputs": [],
   "source": [
    "data = pd.read_csv(\"states.csv\", index_col =\"State\")"
   ]
  },
  {
   "cell_type": "code",
   "execution_count": 3,
   "id": "842de883",
   "metadata": {},
   "outputs": [],
   "source": [
    "rows = data.loc[\"Karnataka\"]"
   ]
  },
  {
   "cell_type": "code",
   "execution_count": 4,
   "id": "0975b7df",
   "metadata": {},
   "outputs": [],
   "source": [
    "rows.to_csv('karnataka.csv', encoding='utf-8')"
   ]
  },
  {
   "cell_type": "code",
   "execution_count": null,
   "id": "267ff919",
   "metadata": {},
   "outputs": [],
   "source": []
  }
 ],
 "metadata": {
  "kernelspec": {
   "display_name": "Python 3",
   "language": "python",
   "name": "python3"
  },
  "language_info": {
   "codemirror_mode": {
    "name": "ipython",
    "version": 3
   },
   "file_extension": ".py",
   "mimetype": "text/x-python",
   "name": "python",
   "nbconvert_exporter": "python",
   "pygments_lexer": "ipython3",
   "version": "3.7.10"
  }
 },
 "nbformat": 4,
 "nbformat_minor": 5
}
